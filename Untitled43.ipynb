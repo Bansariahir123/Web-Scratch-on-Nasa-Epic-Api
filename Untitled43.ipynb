{
  "nbformat": 4,
  "nbformat_minor": 0,
  "metadata": {
    "colab": {
      "provenance": [],
      "authorship_tag": "ABX9TyMj035DW2wc7rfc6gmX15K1",
      "include_colab_link": true
    },
    "kernelspec": {
      "name": "python3",
      "display_name": "Python 3"
    },
    "language_info": {
      "name": "python"
    }
  },
  "cells": [
    {
      "cell_type": "markdown",
      "metadata": {
        "id": "view-in-github",
        "colab_type": "text"
      },
      "source": [
        "<a href=\"https://colab.research.google.com/github/Bansariahir123/Web-Scratch-on-Nasa-Epic-Api/blob/main/Untitled43.ipynb\" target=\"_parent\"><img src=\"https://colab.research.google.com/assets/colab-badge.svg\" alt=\"Open In Colab\"/></a>"
      ]
    },
    {
      "cell_type": "code",
      "source": [
        "!pip install requests beautifulsoup4"
      ],
      "metadata": {
        "id": "J7fhDllpGg38",
        "colab": {
          "base_uri": "https://localhost:8080/"
        },
        "outputId": "fa20a0aa-6678-4adc-f28e-a61acafa974f"
      },
      "execution_count": 1,
      "outputs": [
        {
          "output_type": "stream",
          "name": "stdout",
          "text": [
            "Requirement already satisfied: requests in /usr/local/lib/python3.10/dist-packages (2.31.0)\n",
            "Requirement already satisfied: beautifulsoup4 in /usr/local/lib/python3.10/dist-packages (4.11.2)\n",
            "Requirement already satisfied: charset-normalizer<4,>=2 in /usr/local/lib/python3.10/dist-packages (from requests) (3.2.0)\n",
            "Requirement already satisfied: idna<4,>=2.5 in /usr/local/lib/python3.10/dist-packages (from requests) (3.4)\n",
            "Requirement already satisfied: urllib3<3,>=1.21.1 in /usr/local/lib/python3.10/dist-packages (from requests) (2.0.4)\n",
            "Requirement already satisfied: certifi>=2017.4.17 in /usr/local/lib/python3.10/dist-packages (from requests) (2023.7.22)\n",
            "Requirement already satisfied: soupsieve>1.2 in /usr/local/lib/python3.10/dist-packages (from beautifulsoup4) (2.4.1)\n"
          ]
        }
      ]
    },
    {
      "cell_type": "code",
      "execution_count": 2,
      "metadata": {
        "id": "n5zwoKcJGaVx",
        "colab": {
          "base_uri": "https://localhost:8080/"
        },
        "outputId": "940b6be7-da62-44e9-ff85-e6c6e12f1940"
      },
      "outputs": [
        {
          "output_type": "stream",
          "name": "stdout",
          "text": [
            "Data saved to epic_data.csv\n"
          ]
        }
      ],
      "source": [
        "import requests\n",
        "import csv\n",
        "\n",
        "# Replace 'YOUR_API_KEY' with your actual NASA API key\n",
        "api_key = 'YOUR API KEY'\n",
        "\n",
        "# Define the base URL for the EPIC API\n",
        "base_url = 'https://api.nasa.gov/EPIC/api/'\n",
        "\n",
        "# Define the desired endpoint and parameters\n",
        "endpoint = 'natural/images'  # Example: Retrieve metadata for natural color imagery\n",
        "\n",
        "# Create a dictionary with query parameters, including your API key\n",
        "params = {\n",
        "    'api_key': api_key\n",
        "}\n",
        "\n",
        "# Construct the full API request URL\n",
        "api_url = f\"{base_url}{endpoint}\"\n",
        "\n",
        "# Make the API request\n",
        "response = requests.get(api_url, params=params)\n",
        "\n",
        "# Check if the request was successful (status code 200)\n",
        "if response.status_code == 200:\n",
        "    data = response.json()\n",
        "\n",
        "    # Specify the path to the CSV file where you want to save the data\n",
        "    csv_file_path = 'epic_data.csv'\n",
        "\n",
        "    # Extract relevant data from the JSON response and write it to the CSV file\n",
        "    with open(csv_file_path, 'w', newline='') as csv_file:\n",
        "        writer = csv.writer(csv_file)\n",
        "\n",
        "        # Write the header row\n",
        "        writer.writerow(['Image Name', 'Date', 'Caption', 'Centroid Coordinates', 'DSCOVR J2000 Position', 'Lunar J2000 Position', 'Sun J2000 Position', 'Attitude Quaternions'])\n",
        "\n",
        "        # Write data rows\n",
        "        for item in data:\n",
        "            writer.writerow([\n",
        "                item['image'],\n",
        "                item['date'],\n",
        "                item['caption'],\n",
        "                item['centroid_coordinates'],\n",
        "                item['dscovr_j2000_position'],\n",
        "                item['lunar_j2000_position'],\n",
        "                item['sun_j2000_position'],\n",
        "                item['attitude_quaternions']\n",
        "            ])\n",
        "\n",
        "    print(f'Data saved to {csv_file_path}')\n",
        "else:\n",
        "    print(f\"Failed to retrieve data. Status code: {response.status_code}\")\n"
      ]
    }
  ]
}